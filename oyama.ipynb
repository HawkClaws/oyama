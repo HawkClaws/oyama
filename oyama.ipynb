{
  "nbformat": 4,
  "nbformat_minor": 0,
  "metadata": {
    "colab": {
      "provenance": [],
      "gpuType": "T4",
      "authorship_tag": "ABX9TyO8ryZNpiYAiK9eo4w8GIQW",
      "include_colab_link": true
    },
    "kernelspec": {
      "name": "python3",
      "display_name": "Python 3"
    },
    "language_info": {
      "name": "python"
    },
    "accelerator": "GPU"
  },
  "cells": [
    {
      "cell_type": "markdown",
      "metadata": {
        "id": "view-in-github",
        "colab_type": "text"
      },
      "source": [
        "<a href=\"https://colab.research.google.com/github/HawkClaws/oyama/blob/main/oyama.ipynb\" target=\"_parent\"><img src=\"https://colab.research.google.com/assets/colab-badge.svg\" alt=\"Open In Colab\"/></a>"
      ]
    },
    {
      "cell_type": "code",
      "execution_count": null,
      "metadata": {
        "id": "YmrpitbGfM7u"
      },
      "outputs": [],
      "source": [
        "!pip install git+https://github.com/HawkClaws/oyama.git ollama"
      ]
    },
    {
      "cell_type": "markdown",
      "source": [],
      "metadata": {
        "id": "MSw7WMN5fqmU"
      }
    },
    {
      "cell_type": "code",
      "source": [
        "from oyama import oyama\n",
        "# huggingface Model Path\n",
        "model_name = oyama.run(\"https://huggingface.co/mmnga/cyberagent-calm2-7b-chat-gguf/resolve/main/cyberagent-calm2-7b-chat-q8_0.gguf?download=true\")"
      ],
      "metadata": {
        "id": "EqYA9u3DfOQp"
      },
      "execution_count": null,
      "outputs": []
    },
    {
      "cell_type": "code",
      "source": [
        "import ollama\n",
        "print(model_name)\n",
        "response = ollama.generate(model=model_name,prompt=\"相対性理論について説明して\")\n",
        "print(response)\n",
        "response = ollama.chat(model=model_name, messages=[\n",
        "  {\n",
        "    'role': 'user',\n",
        "    'content': '相対性理論について説明して',\n",
        "  },\n",
        "])\n",
        "print(response['message']['content'])"
      ],
      "metadata": {
        "id": "UTa0vwUmlvag"
      },
      "execution_count": null,
      "outputs": []
    }
  ]
}