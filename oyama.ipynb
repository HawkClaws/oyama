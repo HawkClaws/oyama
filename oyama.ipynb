{
  "nbformat": 4,
  "nbformat_minor": 0,
  "metadata": {
    "colab": {
      "provenance": [],
      "gpuType": "T4",
      "include_colab_link": true
    },
    "kernelspec": {
      "name": "python3",
      "display_name": "Python 3"
    },
    "language_info": {
      "name": "python"
    },
    "accelerator": "GPU"
  },
  "cells": [
    {
      "cell_type": "markdown",
      "metadata": {
        "id": "view-in-github",
        "colab_type": "text"
      },
      "source": [
        "<a href=\"https://colab.research.google.com/github/HawkClaws/oyama/blob/main/oyama.ipynb\" target=\"_parent\"><img src=\"https://colab.research.google.com/assets/colab-badge.svg\" alt=\"Open In Colab\"/></a>"
      ]
    },
    {
      "cell_type": "code",
      "execution_count": null,
      "metadata": {
        "id": "YmrpitbGfM7u"
      },
      "outputs": [],
      "source": [
        "!sudo apt-get install pciutils\n",
        "!pip install git+https://github.com/HawkClaws/oyama.git ollama"
      ]
    },
    {
      "cell_type": "markdown",
      "source": [],
      "metadata": {
        "id": "MSw7WMN5fqmU"
      }
    },
    {
      "cell_type": "code",
      "source": [
        "from oyama import oyama\n",
        "# huggingface Model Path\n",
        "model_name = oyama.run(\"https://huggingface.co/mmnga/cyberagent-calm2-7b-chat-gguf/resolve/main/cyberagent-calm2-7b-chat-q8_0.gguf?download=true\")"
      ],
      "metadata": {
        "id": "EqYA9u3DfOQp"
      },
      "execution_count": null,
      "outputs": []
    },
    {
      "cell_type": "code",
      "source": [
        "import ollama\n",
        "print(model_name)\n",
        "stream = ollama.chat(\n",
        "    model=model_name,\n",
        "    messages=[{'role': 'user', 'content': '相対性理論について説明して'}],\n",
        "    stream=True,\n",
        ")\n",
        "\n",
        "for chunk in stream:\n",
        "  print(chunk['message']['content'], end='', flush=True)"
      ],
      "metadata": {
        "id": "UTa0vwUmlvag",
        "colab": {
          "base_uri": "https://localhost:8080/"
        },
        "outputId": "aa625f02-6c0c-4e2f-888c-9aa0aea6bfe3"
      },
      "execution_count": null,
      "outputs": [
        {
          "output_type": "stream",
          "name": "stdout",
          "text": [
            "の大規模とその起源についても意見を提示する相対性理論は、アイルフレド・アインシュタインによって1905年に発表され、現在でも活発な研究が続けられています。\n",
            "\n",
            "総じて、アイルフレド・アインシュタインの相対性理論は、物理学の世界を変えた重要な理論であり、さまざまな分野で広く使用さ"
          ]
        }
      ]
    }
  ]
}